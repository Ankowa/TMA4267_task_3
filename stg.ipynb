{
 "cells": [
  {
   "attachments": {},
   "cell_type": "markdown",
   "metadata": {},
   "source": [
    "# Factors\n",
    "\n",
    "## A: Standard Scaling (applied or not applied)\n",
    "\n",
    "## B: PCA to 50 dimensions (applied or not applied)\n",
    "\n",
    "## C: Data Augmentation (random vertical flip, applied or not applied)\n",
    "\n",
    "## D: Model type (DecisionTreeClassifier or LogisticRegression)\n",
    "\n",
    "# Response variable\n",
    "\n",
    "## Accuracy\n",
    "\n",
    "# The task\n",
    "\n",
    "Training a classifier on a MNIST dataset\n",
    "\n",
    "## MNIST\n",
    "\n",
    "something something a classic benchmark for machine learning classification and more, proposed by Yann Le Cun etc. [Nice picture etc.]\n",
    "\n",
    "# Setting\n",
    "\n",
    "## Train test split approach\n",
    "\n",
    "60k vs 10k (following paper by Le Cun), a single split to maintain comparability between experiments (i.e. train set and test set are always the same)\n",
    "\n",
    "## Classifiers\n",
    "\n",
    "Default configuration, this type of experiment makes playing aroung with hyperparameters a bit problematic"
   ]
  },
  {
   "cell_type": "code",
   "execution_count": 1,
   "metadata": {},
   "outputs": [],
   "source": [
    "from sklearn.datasets import fetch_openml\n",
    "import pandas as pd\n",
    "\n",
    "try:\n",
    "    X = pd.read_csv('data/X.csv', index_col=0)\n",
    "    y = pd.read_csv('data/y.csv', index_col=0)\n",
    "except:\n",
    "    X, y = fetch_openml('mnist_784', data_home='data', version=1, return_X_y=True)"
   ]
  },
  {
   "cell_type": "code",
   "execution_count": 2,
   "metadata": {},
   "outputs": [],
   "source": [
    "import matplotlib.pyplot as plt"
   ]
  },
  {
   "cell_type": "code",
   "execution_count": 4,
   "metadata": {},
   "outputs": [
    {
     "data": {
      "text/plain": [
       "array([5])"
      ]
     },
     "execution_count": 4,
     "metadata": {},
     "output_type": "execute_result"
    }
   ],
   "source": [
    "y.values[0]"
   ]
  },
  {
   "cell_type": "code",
   "execution_count": 3,
   "metadata": {},
   "outputs": [
    {
     "data": {
      "image/png": "[encoded data removed]",
      "text/plain": [
       "<Figure size 1000x500 with 2 Axes>"
      ]
     },
     "metadata": {},
     "output_type": "display_data"
    }
   ],
   "source": [
    "_, axs = plt.subplots(1, 2, figsize=(10, 5))\n",
    "axs[0].imshow(X.values.reshape(-1, 28, 28)[0], cmap=\"gray\")\n",
    "axs[1].imshow(X.values.reshape(-1, 28, 28)[0][:, ::-1], cmap=\"gray\")\n",
    "axs[0].set_title(\"Original\")\n",
    "axs[1].set_title(\"Vertical Flip\")\n",
    "plt.show()"
   ]
  },
  {
   "cell_type": "code",
   "execution_count": 4,
   "metadata": {},
   "outputs": [
    {
     "data": {
      "image/png": "[encoded data removed]",
      "text/plain": [
       "<Figure size 640x480 with 1 Axes>"
      ]
     },
     "metadata": {},
     "output_type": "display_data"
    }
   ],
   "source": [
    "plt.imshow(X.values.reshape(-1, 28, 28)[0][:, ::-1], cmap=\"gray\");"
   ]
  },
  {
   "cell_type": "code",
   "execution_count": 5,
   "metadata": {},
   "outputs": [],
   "source": [
    "from sklearn.model_selection import train_test_split\n",
    "def train_test_data(X, y, test_size=10_000, seed=123):\n",
    "    X_train, X_test, y_train, y_test = train_test_split(X, y, test_size=test_size, random_state=seed)\n",
    "    return X_train.values, X_test.values, y_train.values, y_test.values"
   ]
  },
  {
   "cell_type": "code",
   "execution_count": 6,
   "metadata": {},
   "outputs": [],
   "source": [
    "from sklearn.preprocessing import StandardScaler\n",
    "def standard_scaling(X_train, X_test, apply):\n",
    "    if apply:\n",
    "        ss = StandardScaler()\n",
    "        X_train = ss.fit_transform(X_train)\n",
    "        X_test = ss.transform(X_test)\n",
    "    return X_train, X_test"
   ]
  },
  {
   "cell_type": "code",
   "execution_count": 7,
   "metadata": {},
   "outputs": [],
   "source": [
    "from sklearn.decomposition import PCA\n",
    "def pca(X_train, X_test, apply, n_components=50):\n",
    "    if apply:\n",
    "        pca = PCA(n_components=n_components)\n",
    "        X_train = pca.fit_transform(X_train)\n",
    "        X_test = pca.transform(X_test)\n",
    "    return X_train, X_test"
   ]
  },
  {
   "cell_type": "code",
   "execution_count": 19,
   "metadata": {},
   "outputs": [],
   "source": [
    "import numpy as np\n",
    "\n",
    "\n",
    "def augment_data(\n",
    "    X_train: np.ndarray,\n",
    "    y_train: np.ndarray,\n",
    "    apply: bool,\n",
    "    seed=123,\n",
    "):\n",
    "    if apply:\n",
    "        np.random.seed(seed)\n",
    "        mask = np.random.permutation(X_train.shape[0])[: X_train.shape[0] // 2]\n",
    "        X_train_augmented = X_train[mask].reshape(-1, 28, 28)[:, :, ::-1].reshape(-1, 28 * 28)\n",
    "        y_train_augmented = y_train[mask]\n",
    "        X_train = np.concatenate([X_train, X_train_augmented], axis=0)\n",
    "        y_train = np.concatenate([y_train, y_train_augmented], axis=0)\n",
    "\n",
    "    return X_train, y_train\n"
   ]
  },
  {
   "cell_type": "code",
   "execution_count": 21,
   "metadata": {},
   "outputs": [],
   "source": [
    "from sklearn.linear_model import LogisticRegression\n",
    "from sklearn.tree import DecisionTreeClassifier\n",
    "def train_model(X_train, y_train, model):\n",
    "    if model:\n",
    "        clf = LogisticRegression(random_state=123)\n",
    "    else:\n",
    "        clf = DecisionTreeClassifier(random_state=123)\n",
    "    clf.fit(X_train, y_train)\n",
    "    return clf\n",
    "    "
   ]
  },
  {
   "cell_type": "code",
   "execution_count": 23,
   "metadata": {},
   "outputs": [],
   "source": [
    "def evaluate(X_test, y_test, clf):\n",
    "    return clf.score(X_test, y_test)"
   ]
  },
  {
   "cell_type": "code",
   "execution_count": 24,
   "metadata": {},
   "outputs": [],
   "source": [
    "def run_single(X_train, X_test, y_train, y_test, A, B, C, D):\n",
    "    X_train, X_test = standard_scaling(X_train, X_test, apply=A)\n",
    "    X_train, X_test = pca(X_train, X_test, apply=B)\n",
    "    X_train, y_train, X_test, y_test = get_random_shuffle(X_train, y_train, X_test, y_test, apply=C)\n",
    "    clf = train_model(X_train, y_train, model=D)\n",
    "    return evaluate(X_test, y_test, clf)"
   ]
  },
  {
   "cell_type": "code",
   "execution_count": 50,
   "metadata": {},
   "outputs": [],
   "source": [
    "import itertools\n",
    "import pandas as pd\n",
    "from tqdm import tqdm\n",
    "\n",
    "import multiprocessing\n",
    "\n",
    "class SingleRunProcess(multiprocessing.Process):\n",
    "    def __init__(self, X_train, X_test, y_train, y_test, A, B, C, D, results_q):\n",
    "        multiprocessing.Process.__init__(self)\n",
    "        self.X_train = X_train\n",
    "        self.X_test = X_test\n",
    "        self.y_train = y_train\n",
    "        self.y_test = y_test\n",
    "        self.A = A\n",
    "        self.B = B\n",
    "        self.C = C\n",
    "        self.D = D\n",
    "        self.results_q = results_q\n",
    "\n",
    "    def run(self):\n",
    "        score = run_single(self.X_train, self.X_test, self.y_train, self.y_test, self.A, self.B, self.C, self.D)\n",
    "        self.results_q.put([self.A, self.B, self.C, self.D, score])\n",
    "\n"
   ]
  },
  {
   "cell_type": "code",
   "execution_count": null,
   "metadata": {},
   "outputs": [],
   "source": [
    "\n",
    "\n",
    "def run():\n",
    "    X_train, X_test, y_train, y_test = train_test_data(X, y)\n",
    "    results = []\n",
    "    results_q = multiprocessing.Queue()\n",
    "    factors = [\"A\", \"B\", \"C\", \"D\"]\n",
    "    response = [\"Y\"]\n",
    "    for A, B, C, D in tqdm(itertools.product([True, False], repeat=4)):\n",
    "        p = SingleRunProcess(X_train, X_test, y_train, y_test, A, B, C, D, results_q)\n",
    "        p.start()\n",
    "    \n",
    "    for _ in tqdm(range(2 ** 4)):\n",
    "        p.join()\n",
    "        results.append(results_q.get())\n",
    "    df = pd.DataFrame(results, columns=factors + response)\n",
    "    df[factors] = df[factors].applymap(lambda x: {True: 1, False: -1}[x])\n",
    "    for comb_size in range(1, len(factors) + 1):\n",
    "        for comb in itertools.combinations(factors, comb_size):\n",
    "            df[\"\".join(comb)] = df[list(comb)].prod(axis=1)\n",
    "        \n",
    "    df = df[[c for c in df.columns if c != \"Y\"] + [\"Y\"]]\n",
    "    return df"
   ]
  },
  {
   "cell_type": "code",
   "execution_count": null,
   "metadata": {},
   "outputs": [],
   "source": [
    "def save_results(df):\n",
    "    df.to_csv(\"data/results.csv\")"
   ]
  },
  {
   "cell_type": "code",
   "execution_count": 13,
   "metadata": {},
   "outputs": [],
   "source": [
    "import pandas as pd\n",
    "import numpy as np\n",
    "import matplotlib.pyplot as plt\n",
    "df = pd.read_csv(\"data/results.csv\", index_col=0)"
   ]
  },
  {
   "cell_type": "code",
   "execution_count": 14,
   "metadata": {},
   "outputs": [],
   "source": [
    "X_, Y_ = df[[c for c in df.columns if c != \"Y\"]].values, df[\"Y\"].values"
   ]
  },
  {
   "cell_type": "code",
   "execution_count": 15,
   "metadata": {},
   "outputs": [],
   "source": [
    "beta_hat = 1/X_.shape[0] * X_.T @ Y_"
   ]
  },
  {
   "cell_type": "code",
   "execution_count": 16,
   "metadata": {},
   "outputs": [
    {
     "data": {
      "image/png": "[encoded data removed]",
      "text/plain": [
       "<Figure size 640x480 with 1 Axes>"
      ]
     },
     "metadata": {},
     "output_type": "display_data"
    }
   ],
   "source": [
    "plt.bar(range(len(beta_hat)), beta_hat);"
   ]
  },
  {
   "cell_type": "code",
   "execution_count": 17,
   "metadata": {},
   "outputs": [],
   "source": [
    "effects = 2*beta_hat"
   ]
  },
  {
   "cell_type": "code",
   "execution_count": 21,
   "metadata": {},
   "outputs": [],
   "source": [
    "m = np.median(np.abs(effects))\n",
    "s_0 = 1.5 * m"
   ]
  },
  {
   "cell_type": "code",
   "execution_count": 25,
   "metadata": {},
   "outputs": [],
   "source": [
    "m_fin = np.median(effects[np.where(np.abs(effects) < 2.5 * s_0)])"
   ]
  },
  {
   "cell_type": "code",
   "execution_count": 26,
   "metadata": {},
   "outputs": [],
   "source": [
    "pse = 1.5 * m_fin"
   ]
  },
  {
   "cell_type": "code",
   "execution_count": 27,
   "metadata": {},
   "outputs": [
    {
     "data": {
      "text/plain": [
       "0.12585999999999986"
      ]
     },
     "execution_count": 27,
     "metadata": {},
     "output_type": "execute_result"
    }
   ],
   "source": [
    "pse"
   ]
  }
 ],
 "metadata": {
  "kernelspec": {
   "display_name": "env",
   "language": "python",
   "name": "env"
  },
  "language_info": {
   "codemirror_mode": {
    "name": "ipython",
    "version": 3
   },
   "file_extension": ".py",
   "mimetype": "text/x-python",
   "name": "python",
   "nbconvert_exporter": "python",
   "pygments_lexer": "ipython3",
   "version": "3.10.6"
  },
  "orig_nbformat": 4
 },
 "nbformat": 4,
 "nbformat_minor": 2
}
